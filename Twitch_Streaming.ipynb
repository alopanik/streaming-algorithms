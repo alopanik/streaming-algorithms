{
 "cells": [
  {
   "cell_type": "markdown",
   "id": "fe91b461",
   "metadata": {},
   "source": [
    "# Detecting Troll/Bot/Brigading Activity on Streaming Chat Data"
   ]
  },
  {
   "cell_type": "markdown",
   "id": "c41051b5",
   "metadata": {},
   "source": [
    "### Data Prep"
   ]
  },
  {
   "cell_type": "code",
   "execution_count": 1,
   "id": "6180f955-f2d1-4a3e-8f7d-3aa5619937c8",
   "metadata": {},
   "outputs": [],
   "source": [
    "import time\n",
    "import pandas as pd\n",
    "import numpy as np\n",
    "from pyspark.sql import SparkSession\n",
    "import pyspark.sql.functions as F\n",
    "import pyspark.sql.types as T\n",
    "\n",
    "# The files were split into many different Pickle files; we needed to load them via Pandas. In a perfect world,\n",
    "# uploading via HDFS would be quicker (if Spark supported Pickle files), but we only have a single worker node.\n",
    "\n",
    "full_data = pd.read_pickle('gs://dataproc-staging-us-east1-935674292254-8vstrevf/Twitch_data/ICWSM19_data/*.pkl')\n",
    "\n",
    "# Data source: https://dataverse.harvard.edu/dataset.xhtml?persistentId=doi:10.7910/DVN/VE0IVQ"
   ]
  },
  {
   "cell_type": "code",
   "execution_count": 6,
   "id": "8d86ee20-2389-4095-aa09-71ac086520ac",
   "metadata": {},
   "outputs": [
    {
     "name": "stdout",
     "output_type": "stream",
     "text": [
      "<class 'pandas.core.frame.DataFrame'>\n",
      "Int64Index: 2722109 entries, 0 to 3994358\n",
      "Data columns (total 9 columns):\n",
      " #   Column          Dtype  \n",
      "---  ------          -----  \n",
      " 0   body            object \n",
      " 1   channel_id      object \n",
      " 2   commenter_id    object \n",
      " 3   commenter_type  object \n",
      " 4   created_at      object \n",
      " 5   fragments       object \n",
      " 6   offset          float64\n",
      " 7   updated_at      object \n",
      " 8   video_id        object \n",
      "dtypes: float64(1), object(8)\n",
      "memory usage: 207.7+ MB\n"
     ]
    },
    {
     "data": {
      "text/plain": [
       "\"\\nDescription of columns follows below:\\nbody: Actual text for user chat\\nchannel_id: Channel identifier (integer)\\ncommenter_id: User identifier (integer)\\ncommenter_type: User type ['user', 'staff', 'global_mod'] (character)\\ncreated_at: Time of when chat was entered (ISO 8601 date and time)\\nfragments: Chat text including parsing information of Twitch emote (JSON list)\\noffset: Time offset between start time of video stream and the time of when chat was entered (float)\\nupdated_at: Time of when chat was edited (ISO 8601 date and time)\\nvideo_id: Video identifier (integer)\\n\\n\""
      ]
     },
     "execution_count": 6,
     "metadata": {},
     "output_type": "execute_result"
    }
   ],
   "source": [
    "full_data.info()\n",
    "'''\n",
    "Description of columns follows below:\n",
    "body: Actual text for user chat\n",
    "channel_id: Channel identifier (integer)\n",
    "commenter_id: User identifier (integer)\n",
    "commenter_type: User type ['user', 'staff', 'global_mod'] (character)\n",
    "created_at: Time of when chat was entered (ISO 8601 date and time)\n",
    "fragments: Chat text including parsing information of Twitch emote (JSON list)\n",
    "offset: Time offset between start time of video stream and the time of when chat was entered (float)\n",
    "updated_at: Time of when chat was edited (ISO 8601 date and time)\n",
    "video_id: Video identifier (integer)\n",
    "\n",
    "'''"
   ]
  },
  {
   "cell_type": "code",
   "execution_count": 2,
   "id": "6ba09a23-1d96-4245-bd8f-5d78ecfc39f2",
   "metadata": {},
   "outputs": [],
   "source": [
    "# Drop unnecessary features.\n",
    "\n",
    "full_data = full_data.drop(columns=['commenter_type', 'fragments', 'offset', 'updated_at'])"
   ]
  },
  {
   "cell_type": "code",
   "execution_count": 3,
   "id": "60829ceb-1dbf-426c-bdc9-78f8761e5612",
   "metadata": {},
   "outputs": [
    {
     "data": {
      "text/html": [
       "<div>\n",
       "<style scoped>\n",
       "    .dataframe tbody tr th:only-of-type {\n",
       "        vertical-align: middle;\n",
       "    }\n",
       "\n",
       "    .dataframe tbody tr th {\n",
       "        vertical-align: top;\n",
       "    }\n",
       "\n",
       "    .dataframe thead th {\n",
       "        text-align: right;\n",
       "    }\n",
       "</style>\n",
       "<table border=\"1\" class=\"dataframe\">\n",
       "  <thead>\n",
       "    <tr style=\"text-align: right;\">\n",
       "      <th></th>\n",
       "      <th>body</th>\n",
       "      <th>channel_id</th>\n",
       "      <th>commenter_id</th>\n",
       "      <th>created_at</th>\n",
       "      <th>video_id</th>\n",
       "    </tr>\n",
       "  </thead>\n",
       "  <tbody>\n",
       "    <tr>\n",
       "      <th>0</th>\n",
       "      <td>STILL LATE STRIMMER IS A BAKA rooBaka STRIMMER...</td>\n",
       "      <td>40972890</td>\n",
       "      <td>110969182</td>\n",
       "      <td>2018-06-24 17:07:43.067000+00:00</td>\n",
       "      <td>277073045</td>\n",
       "    </tr>\n",
       "    <tr>\n",
       "      <th>1</th>\n",
       "      <td>NOT LIVE rooREE rooREE rooREE</td>\n",
       "      <td>40972890</td>\n",
       "      <td>109856709</td>\n",
       "      <td>2018-06-24 17:07:43.168000+00:00</td>\n",
       "      <td>277073045</td>\n",
       "    </tr>\n",
       "    <tr>\n",
       "      <th>2</th>\n",
       "      <td>rooBaka BAHROOrooBaka BAHROOrooBaka BAHROOrooB...</td>\n",
       "      <td>40972890</td>\n",
       "      <td>56159955</td>\n",
       "      <td>2018-06-24 17:07:44.631000+00:00</td>\n",
       "      <td>277073045</td>\n",
       "    </tr>\n",
       "    <tr>\n",
       "      <th>3</th>\n",
       "      <td>See</td>\n",
       "      <td>40972890</td>\n",
       "      <td>78678476</td>\n",
       "      <td>2018-06-24 17:07:45.602000+00:00</td>\n",
       "      <td>277073045</td>\n",
       "    </tr>\n",
       "    <tr>\n",
       "      <th>4</th>\n",
       "      <td>rooPog</td>\n",
       "      <td>40972890</td>\n",
       "      <td>30898708</td>\n",
       "      <td>2018-06-24 17:07:45.802000+00:00</td>\n",
       "      <td>277073045</td>\n",
       "    </tr>\n",
       "    <tr>\n",
       "      <th>5</th>\n",
       "      <td>rooPog</td>\n",
       "      <td>40972890</td>\n",
       "      <td>45938332</td>\n",
       "      <td>2018-06-24 17:07:45.981000+00:00</td>\n",
       "      <td>277073045</td>\n",
       "    </tr>\n",
       "    <tr>\n",
       "      <th>6</th>\n",
       "      <td>rooPog</td>\n",
       "      <td>40972890</td>\n",
       "      <td>27713718</td>\n",
       "      <td>2018-06-24 17:07:46.177000+00:00</td>\n",
       "      <td>277073045</td>\n",
       "    </tr>\n",
       "    <tr>\n",
       "      <th>7</th>\n",
       "      <td>rooHappy rooHappy rooHappy rooHappy rooHappy</td>\n",
       "      <td>40972890</td>\n",
       "      <td>30008739</td>\n",
       "      <td>2018-06-24 17:07:46.327000+00:00</td>\n",
       "      <td>277073045</td>\n",
       "    </tr>\n",
       "    <tr>\n",
       "      <th>8</th>\n",
       "      <td>rooREE LATE rooREE LATE rooREE LATE rooREE LAT...</td>\n",
       "      <td>40972890</td>\n",
       "      <td>98102384</td>\n",
       "      <td>2018-06-24 17:07:47.358000+00:00</td>\n",
       "      <td>277073045</td>\n",
       "    </tr>\n",
       "    <tr>\n",
       "      <th>9</th>\n",
       "      <td>rooREE rooREE rooREE</td>\n",
       "      <td>40972890</td>\n",
       "      <td>106988399</td>\n",
       "      <td>2018-06-24 17:07:47.783000+00:00</td>\n",
       "      <td>277073045</td>\n",
       "    </tr>\n",
       "  </tbody>\n",
       "</table>\n",
       "</div>"
      ],
      "text/plain": [
       "                                                body channel_id commenter_id  \\\n",
       "0  STILL LATE STRIMMER IS A BAKA rooBaka STRIMMER...   40972890    110969182   \n",
       "1                      NOT LIVE rooREE rooREE rooREE   40972890    109856709   \n",
       "2  rooBaka BAHROOrooBaka BAHROOrooBaka BAHROOrooB...   40972890     56159955   \n",
       "3                                                See   40972890     78678476   \n",
       "4                                             rooPog   40972890     30898708   \n",
       "5                                             rooPog   40972890     45938332   \n",
       "6                                             rooPog   40972890     27713718   \n",
       "7       rooHappy rooHappy rooHappy rooHappy rooHappy   40972890     30008739   \n",
       "8  rooREE LATE rooREE LATE rooREE LATE rooREE LAT...   40972890     98102384   \n",
       "9                               rooREE rooREE rooREE   40972890    106988399   \n",
       "\n",
       "                        created_at   video_id  \n",
       "0 2018-06-24 17:07:43.067000+00:00  277073045  \n",
       "1 2018-06-24 17:07:43.168000+00:00  277073045  \n",
       "2 2018-06-24 17:07:44.631000+00:00  277073045  \n",
       "3 2018-06-24 17:07:45.602000+00:00  277073045  \n",
       "4 2018-06-24 17:07:45.802000+00:00  277073045  \n",
       "5 2018-06-24 17:07:45.981000+00:00  277073045  \n",
       "6 2018-06-24 17:07:46.177000+00:00  277073045  \n",
       "7 2018-06-24 17:07:46.327000+00:00  277073045  \n",
       "8 2018-06-24 17:07:47.358000+00:00  277073045  \n",
       "9 2018-06-24 17:07:47.783000+00:00  277073045  "
      ]
     },
     "execution_count": 3,
     "metadata": {},
     "output_type": "execute_result"
    }
   ],
   "source": [
    "# Convert 'created_at' to datetime objects.\n",
    "\n",
    "full_data.created_at = pd.to_datetime(full_data.created_at)\n",
    "full_data.head(10)"
   ]
  },
  {
   "cell_type": "code",
   "execution_count": 4,
   "id": "124ca5b3-b2b9-4504-b2fa-07404749393a",
   "metadata": {},
   "outputs": [
    {
     "data": {
      "text/plain": [
       "(Timestamp('2018-03-06 18:20:53.272000+0000', tz='UTC'),\n",
       " Timestamp('2018-06-25 01:04:55.024000+0000', tz='UTC'))"
      ]
     },
     "execution_count": 4,
     "metadata": {},
     "output_type": "execute_result"
    }
   ],
   "source": [
    "# Find the starting and endpoint point for the dataset. This is needed to create bins or windows to\n",
    "# mimick streaming data.\n",
    "\n",
    "start, end = full_data.created_at.min(), full_data.created_at.max()\n",
    "start, end"
   ]
  },
  {
   "cell_type": "code",
   "execution_count": 5,
   "id": "3ebb06a8-d419-4858-9630-d8a8bfa6df42",
   "metadata": {},
   "outputs": [
    {
     "name": "stdout",
     "output_type": "stream",
     "text": [
      "9529 bins with this frequency.\n"
     ]
    }
   ],
   "source": [
    "# Create bins to bucket each message within X seconds into its own DF/file.\n",
    "\n",
    "dt_increments = pd.date_range(freq='1000S', start=start, end=end)\n",
    "labels = [i for i in range(1, len(dt_increments))]\n",
    "\n",
    "print(f'{len(dt_increments)} bins with this frequency.')"
   ]
  },
  {
   "cell_type": "code",
   "execution_count": 6,
   "id": "ff099da7-4d04-46a2-895d-0c2de81e6d46",
   "metadata": {},
   "outputs": [],
   "source": [
    "# Create a new column to indicate bin.\n",
    "\n",
    "full_data['bin'] = pd.cut(full_data.created_at,\n",
    "                   bins=dt_increments,\n",
    "                   labels=labels)"
   ]
  },
  {
   "cell_type": "code",
   "execution_count": 7,
   "id": "f79e96e3-87cc-4b99-ad50-3fb273345e1a",
   "metadata": {},
   "outputs": [
    {
     "data": {
      "text/html": [
       "<div>\n",
       "<style scoped>\n",
       "    .dataframe tbody tr th:only-of-type {\n",
       "        vertical-align: middle;\n",
       "    }\n",
       "\n",
       "    .dataframe tbody tr th {\n",
       "        vertical-align: top;\n",
       "    }\n",
       "\n",
       "    .dataframe thead th {\n",
       "        text-align: right;\n",
       "    }\n",
       "</style>\n",
       "<table border=\"1\" class=\"dataframe\">\n",
       "  <thead>\n",
       "    <tr style=\"text-align: right;\">\n",
       "      <th></th>\n",
       "      <th>body</th>\n",
       "      <th>channel_id</th>\n",
       "      <th>commenter_id</th>\n",
       "      <th>created_at</th>\n",
       "      <th>video_id</th>\n",
       "      <th>bin</th>\n",
       "    </tr>\n",
       "  </thead>\n",
       "  <tbody>\n",
       "    <tr>\n",
       "      <th>3572218</th>\n",
       "      <td>try again</td>\n",
       "      <td>40972890</td>\n",
       "      <td>176775772</td>\n",
       "      <td>2018-03-06 18:35:42.807000+00:00</td>\n",
       "      <td>247607785</td>\n",
       "      <td>1</td>\n",
       "    </tr>\n",
       "    <tr>\n",
       "      <th>3572008</th>\n",
       "      <td>7463</td>\n",
       "      <td>40972890</td>\n",
       "      <td>31628501</td>\n",
       "      <td>2018-03-06 18:32:38.394000+00:00</td>\n",
       "      <td>247607785</td>\n",
       "      <td>1</td>\n",
       "    </tr>\n",
       "    <tr>\n",
       "      <th>3572007</th>\n",
       "      <td>7463</td>\n",
       "      <td>40972890</td>\n",
       "      <td>61747377</td>\n",
       "      <td>2018-03-06 18:32:37.502000+00:00</td>\n",
       "      <td>247607785</td>\n",
       "      <td>1</td>\n",
       "    </tr>\n",
       "    <tr>\n",
       "      <th>3572006</th>\n",
       "      <td>GreyFox474 roo7</td>\n",
       "      <td>40972890</td>\n",
       "      <td>45823077</td>\n",
       "      <td>2018-03-06 18:32:36.634000+00:00</td>\n",
       "      <td>247607785</td>\n",
       "      <td>1</td>\n",
       "    </tr>\n",
       "    <tr>\n",
       "      <th>3572005</th>\n",
       "      <td>rooWhat</td>\n",
       "      <td>40972890</td>\n",
       "      <td>19264788</td>\n",
       "      <td>2018-03-06 18:32:35.804000+00:00</td>\n",
       "      <td>247607785</td>\n",
       "      <td>1</td>\n",
       "    </tr>\n",
       "  </tbody>\n",
       "</table>\n",
       "</div>"
      ],
      "text/plain": [
       "                    body channel_id commenter_id  \\\n",
       "3572218        try again   40972890    176775772   \n",
       "3572008             7463   40972890     31628501   \n",
       "3572007             7463   40972890     61747377   \n",
       "3572006  GreyFox474 roo7   40972890     45823077   \n",
       "3572005          rooWhat   40972890     19264788   \n",
       "\n",
       "                              created_at   video_id bin  \n",
       "3572218 2018-03-06 18:35:42.807000+00:00  247607785   1  \n",
       "3572008 2018-03-06 18:32:38.394000+00:00  247607785   1  \n",
       "3572007 2018-03-06 18:32:37.502000+00:00  247607785   1  \n",
       "3572006 2018-03-06 18:32:36.634000+00:00  247607785   1  \n",
       "3572005 2018-03-06 18:32:35.804000+00:00  247607785   1  "
      ]
     },
     "execution_count": 7,
     "metadata": {},
     "output_type": "execute_result"
    }
   ],
   "source": [
    "full_data = full_data.sort_values(by=['bin'])\n",
    "full_data.head(5)"
   ]
  },
  {
   "cell_type": "code",
   "execution_count": 8,
   "id": "913df6c2-1643-44ae-b640-1ec74f6885d9",
   "metadata": {},
   "outputs": [
    {
     "data": {
      "text/html": [
       "<div>\n",
       "<style scoped>\n",
       "    .dataframe tbody tr th:only-of-type {\n",
       "        vertical-align: middle;\n",
       "    }\n",
       "\n",
       "    .dataframe tbody tr th {\n",
       "        vertical-align: top;\n",
       "    }\n",
       "\n",
       "    .dataframe thead th {\n",
       "        text-align: right;\n",
       "    }\n",
       "</style>\n",
       "<table border=\"1\" class=\"dataframe\">\n",
       "  <thead>\n",
       "    <tr style=\"text-align: right;\">\n",
       "      <th></th>\n",
       "      <th>body</th>\n",
       "      <th>channel_id</th>\n",
       "      <th>commenter_id</th>\n",
       "      <th>created_at</th>\n",
       "      <th>video_id</th>\n",
       "      <th>bin</th>\n",
       "    </tr>\n",
       "  </thead>\n",
       "  <tbody>\n",
       "    <tr>\n",
       "      <th>31193</th>\n",
       "      <td>Clap2 rooPog</td>\n",
       "      <td>40972890</td>\n",
       "      <td>67157187</td>\n",
       "      <td>2018-06-25 00:55:02.097000+00:00</td>\n",
       "      <td>277073045</td>\n",
       "      <td>9528</td>\n",
       "    </tr>\n",
       "    <tr>\n",
       "      <th>31690</th>\n",
       "      <td>cmon its 3 in the m,orning here...</td>\n",
       "      <td>40972890</td>\n",
       "      <td>205163144</td>\n",
       "      <td>2018-06-25 01:00:50.083000+00:00</td>\n",
       "      <td>277073045</td>\n",
       "      <td>9528</td>\n",
       "    </tr>\n",
       "    <tr>\n",
       "      <th>31699</th>\n",
       "      <td>rooLove rooLove rooLove rooLove rooLove rooLov...</td>\n",
       "      <td>40972890</td>\n",
       "      <td>34728298</td>\n",
       "      <td>2018-06-25 01:00:51.705000+00:00</td>\n",
       "      <td>277073045</td>\n",
       "      <td>9528</td>\n",
       "    </tr>\n",
       "    <tr>\n",
       "      <th>31698</th>\n",
       "      <td>FireDuck</td>\n",
       "      <td>40972890</td>\n",
       "      <td>50755248</td>\n",
       "      <td>2018-06-25 01:00:51.422000+00:00</td>\n",
       "      <td>277073045</td>\n",
       "      <td>9528</td>\n",
       "    </tr>\n",
       "    <tr>\n",
       "      <th>31697</th>\n",
       "      <td>rooLove rooLove rooLove rooLove rooLove rooLov...</td>\n",
       "      <td>40972890</td>\n",
       "      <td>39186645</td>\n",
       "      <td>2018-06-25 01:00:51.277000+00:00</td>\n",
       "      <td>277073045</td>\n",
       "      <td>9528</td>\n",
       "    </tr>\n",
       "  </tbody>\n",
       "</table>\n",
       "</div>"
      ],
      "text/plain": [
       "                                                    body channel_id  \\\n",
       "31193                                       Clap2 rooPog   40972890   \n",
       "31690                 cmon its 3 in the m,orning here...   40972890   \n",
       "31699  rooLove rooLove rooLove rooLove rooLove rooLov...   40972890   \n",
       "31698                                           FireDuck   40972890   \n",
       "31697  rooLove rooLove rooLove rooLove rooLove rooLov...   40972890   \n",
       "\n",
       "      commenter_id                       created_at   video_id   bin  \n",
       "31193     67157187 2018-06-25 00:55:02.097000+00:00  277073045  9528  \n",
       "31690    205163144 2018-06-25 01:00:50.083000+00:00  277073045  9528  \n",
       "31699     34728298 2018-06-25 01:00:51.705000+00:00  277073045  9528  \n",
       "31698     50755248 2018-06-25 01:00:51.422000+00:00  277073045  9528  \n",
       "31697     39186645 2018-06-25 01:00:51.277000+00:00  277073045  9528  "
      ]
     },
     "execution_count": 8,
     "metadata": {},
     "output_type": "execute_result"
    }
   ],
   "source": [
    "full_data = full_data.sort_values(by=['bin'], ascending=False)\n",
    "full_data.head(5)"
   ]
  },
  {
   "cell_type": "code",
   "execution_count": 9,
   "id": "632a44ff-7132-4401-8457-26d08e93d94b",
   "metadata": {},
   "outputs": [],
   "source": [
    "# Create a CSV file for each bin and write to Cloud Storage (Spark will read from this for streaming later on).\n",
    "# Commenting out as these files already exist - no need to run again.\n",
    "\n",
    "# for _bin in labels:\n",
    "#     file_name = str(_bin).rjust(6, '0')\n",
    "#     full_data.loc[full_data['bin'] == _bin].to_csv(f'gs://dataproc-staging-us-east1-935674292254-8vstrevf/Twitch_data/CSV_data/{file_name}.csv')\n",
    "            "
   ]
  },
  {
   "cell_type": "markdown",
   "id": "68774b59",
   "metadata": {},
   "source": [
    "### Processing\n",
    "#### Two Approaches: Python and Spark (PySpark)\n",
    "\n",
    "Ultimately, while we used both and have working examples, due to the volume of data being streamed and small cluster (we deployed a single name/worker node cluster) created in Dataproc, jobs failed."
   ]
  },
  {
   "cell_type": "markdown",
   "id": "cc313167",
   "metadata": {},
   "source": [
    "### Python"
   ]
  },
  {
   "cell_type": "markdown",
   "id": "44737ead-89e1-4bbe-ad4d-3b7768e8f0f0",
   "metadata": {},
   "source": [
    "#### Bloom Filter"
   ]
  },
  {
   "cell_type": "code",
   "execution_count": 10,
   "id": "f59d0ce7-04d3-47e8-89c1-21a0537b7396",
   "metadata": {},
   "outputs": [],
   "source": [
    "# Load a list of 'restricted' words that we want to check for in chat messages. If one of these\n",
    "# words are present in a message, we will block it entirely.\n",
    "\n",
    "hateFile = pd.read_csv('gs://dataproc-staging-us-east1-935674292254-8vstrevf/Hate_Words.csv')\n",
    "hateWords = list(hateFile['word'])"
   ]
  },
  {
   "cell_type": "code",
   "execution_count": 11,
   "id": "f27083be",
   "metadata": {
    "tags": [
     "hide-cell"
    ]
   },
   "outputs": [],
   "source": [
    "import numpy as np\n",
    "from functools import partial\n",
    "\n",
    "class UHF:\n",
    "    \"\"\"A factory for producing a universal family of hash functions\"\"\"\n",
    "\n",
    "    @staticmethod\n",
    "    def isPrime(k):\n",
    "        if k%2==0:\n",
    "            return False\n",
    "        for i in range(3, int(np.sqrt(k)), 2):\n",
    "            if k%i == 0:\n",
    "                return False\n",
    "        return True\n",
    "\n",
    "    def __init__(self, n):\n",
    "        \"\"\"Universe size is n\"\"\"\n",
    "        self.n = n\n",
    "        m = 0\n",
    "        if n%2==0:\n",
    "            m = n+1\n",
    "        else:\n",
    "            m = n+2\n",
    "        while not(UHF.isPrime(m)):\n",
    "            m = m+2\n",
    "        self.p = m\n",
    "\n",
    "    def makeHash(self, m):\n",
    "        \"\"\"Returns a random hash function\n",
    "\n",
    "        m: table size\n",
    "        \"\"\"\n",
    "        a = np.random.randint(1,self.p-1)\n",
    "        b = np.random.randint(0,self.p-1)\n",
    "        return lambda k: ((a*k+b)%self.p)%m\n",
    "\n",
    "\n",
    "\n",
    "def fnv_hash(s):\n",
    "    \"\"\"Returns 32-bit number as slot index\n",
    "\n",
    "    Uses the FNV algorithm from http://isthe.com/chongo/tech/comp/fnv/\n",
    "\n",
    "    Args:\n",
    "        s (str): key to be hashed\n",
    "    \"\"\"\n",
    "    hashval = 0x811c9dc50\n",
    "    for ch in s:\n",
    "        hashval *= 0x01000193\n",
    "        hashval ^= ord(ch)\n",
    "        hashval &= 0xffffffff\n",
    "    return hashval\n",
    "\n",
    "\n",
    "class String_UHF:\n",
    "    \"\"\"Universal Hash family for strings\n",
    "\n",
    "    We will use the Mersenne prime 2**31 - 1 = 2147483647\n",
    "    in the hash family: while we have not done so here,\n",
    "    division modulo Mersenne primes can be computed very fast.\"\"\"\n",
    "\n",
    "    def __init__(self, p=31):\n",
    "        self.p = 2**p -1\n",
    "        self.a = np.random.randint(1, self.p -1)\n",
    "        self.b = np.random.randint(0, self.p -1)\n",
    "\n",
    "    def makeHash(self, m):\n",
    "        \"\"\"Returns hash function from str -> [0, m)\n",
    "\n",
    "        Args:\n",
    "            m (int): table size\n",
    "        \"\"\"\n",
    "        def __rollingHash(x, s):\n",
    "            \"\"\"Implements a rolling hash\n",
    "\n",
    "            Treat the string's ord() values as coefficients\n",
    "            of a polynomial in x, and evaluate modulo self.p\n",
    "\n",
    "            Args:\n",
    "                x (int)\n",
    "                s (str): string to be hashed\n",
    "            \"\"\"\n",
    "            hashval = 0x811c9dc50\n",
    "            for ch in s:\n",
    "                hashval = ((hashval * x) + ord(ch)) % self.p\n",
    "            return ((self.a * hashval + self.b) % self.p) % m\n",
    "\n",
    "        k = np.random.randint(1, self.p -1)\n",
    "        return partial(__rollingHash, k)\n",
    "\n",
    "class BloomFilter:\n",
    "    ''' Class creates our bloom filter and accepts the words that we're\n",
    "    looking for. Code uses the String_UHF from the professor so not currently\n",
    "    sure how we can read that in yet. Initializes to the optimal bits and hashes.\n",
    "    \n",
    "    Args:\n",
    "        word_list: list of words to be filtered\n",
    "    '''\n",
    "    def __init__(self, word_list):\n",
    "        self.words = word_list\n",
    "        self.len = len(self.words)\n",
    "        self.fn_rate = 0.01\n",
    "        self.bits = int(-self.len*np.log(self.fn_rate) / (np.log(2)**2))\n",
    "        self.optHash = int(self.bits/self.len * np.log(2))\n",
    "        self.bloom = np.zeros(self.bits)\n",
    "        self.hash_fn = String_UHF()\n",
    "        self.hashes = [self.hash_fn.makeHash(self.bits) for i in range (self.optHash)]\n",
    "        for elem in self.words:\n",
    "            for h in self.hashes:\n",
    "                self.bloom[h(elem)] = 1\n",
    "\n",
    "    def check_membership(self,elem):\n",
    "        '''Returns True if all bits corresponding to the element are set\n",
    "        - by Professor\n",
    "        '''\n",
    "        return all([self.bloom[h(elem)] == 1 for h in self.hashes])"
   ]
  },
  {
   "cell_type": "code",
   "execution_count": 12,
   "id": "dc4b9a66-195f-4575-8cfd-cae8a436c80e",
   "metadata": {},
   "outputs": [],
   "source": [
    "# Bloom filter implementation\n",
    "\n",
    "TwitchBloom = BloomFilter(hateWords)"
   ]
  },
  {
   "cell_type": "code",
   "execution_count": 13,
   "id": "c64610e0-1410-42e0-8ba6-90d1ecd5f028",
   "metadata": {},
   "outputs": [
    {
     "name": "stdout",
     "output_type": "stream",
     "text": [
      "True\n"
     ]
    }
   ],
   "source": [
    "# Testing the filter.\n",
    "\n",
    "msg = 'kill'\n",
    "print(TwitchBloom.check_membership(msg))"
   ]
  },
  {
   "cell_type": "markdown",
   "id": "113c27f7",
   "metadata": {},
   "source": [
    "#### LSH"
   ]
  },
  {
   "cell_type": "code",
   "execution_count": 14,
   "id": "7eb84d7c",
   "metadata": {},
   "outputs": [],
   "source": [
    "from datasketch import MinHash, MinHashLSH\n",
    "from nltk.util import ngrams"
   ]
  },
  {
   "cell_type": "code",
   "execution_count": 15,
   "id": "794529e2-fbc0-4e8c-98bc-15326dbf6857",
   "metadata": {
    "scrolled": true
   },
   "outputs": [],
   "source": [
    "# Load a test dataframe for testing the LSH implementation.\n",
    "\n",
    "test = full_data.head(1000)"
   ]
  },
  {
   "cell_type": "code",
   "execution_count": 16,
   "id": "1c9de07f",
   "metadata": {},
   "outputs": [
    {
     "name": "stderr",
     "output_type": "stream",
     "text": [
      "/tmp/ipykernel_3155/185678468.py:3: SettingWithCopyWarning: \n",
      "A value is trying to be set on a copy of a slice from a DataFrame.\n",
      "Try using .loc[row_indexer,col_indexer] = value instead\n",
      "\n",
      "See the caveats in the documentation: https://pandas.pydata.org/pandas-docs/stable/user_guide/indexing.html#returning-a-view-versus-a-copy\n",
      "  test['msg'] = test['body'].str.split()\n"
     ]
    }
   ],
   "source": [
    "# Basic/simple tokenization\n",
    "\n",
    "test['msg'] = test['body'].str.split()"
   ]
  },
  {
   "cell_type": "code",
   "execution_count": 24,
   "id": "dcfcd7e0",
   "metadata": {},
   "outputs": [
    {
     "name": "stdout",
     "output_type": "stream",
     "text": [
      "Blocked word detected in message:  NotAerial technically no the game itself is pretty good but the dlc gives it much more stuff so its a good thing to have\n",
      "Blocked word detected in message:  my pc died, did we kill the thing?\n",
      "Blocked word detected in message:  rooSellout Do you have Amazon Prime and want to subscribe? https://twitch.amazon.com/prime and go to https://www.twitch.tv/admiralbahroo/subscribe to subscribe for free rooSellout\n",
      "Blocked word detected in message:  So much stress.\n",
      "Blocked word detected in message:  @KradoxArcticFox Do i need to buy any DLC?\n",
      "Blocked word detected in message:  you still haven't fucked with the warrens\n",
      "Blocked word detected in message:  because there is as much rng in this game as rolling a 1d100 dice\n",
      "Blocked word detected in message:  holy crap 10k\n",
      "Blocked word detected in message:  probably leave buildings alone imo, i wouldve stopped at the bank\n",
      "Blocked word detected in message:  Do the girls have special lines for visiting the brothel?\n",
      "Blocked word detected in message:  How did you get so much money\n",
      "Blocked word detected in message:  @Fyury67 so you dont think missing 3 times with 95% hit chance is normal? 🤔\n",
      "Blocked word detected in message:  XCOM isnt the only game that RNG makes you its bitch\n",
      "Blocked word detected in message:  fuck the pewr\n",
      "Blocked word detected in message:  maximum bullshit is my favorite kind of bullshit\n",
      "Blocked word detected in message:  Didn’t kill torch moon2H moon2H moon2H\n",
      "Blocked word detected in message:  wtf @AdmiralBahroo what was that\n",
      "Blocked word detected in message:  so close monkaS\n",
      "Blocked word detected in message:  Embrace the sweet sweet death release danLol\n",
      "Blocked word detected in message:  ded ?\n",
      "Blocked word detected in message:  she's gonna blow\n"
     ]
    }
   ],
   "source": [
    "# Testing the Bloom filter and LSH (with 95% similarity as the threshold) together:\n",
    "# 1) Check message against Bloom filter, if not caught:\n",
    "# 2) Insert into minhash table/apply LSH check\n",
    "\n",
    "# First, step 1:\n",
    "\n",
    "lsh = MinHashLSH(threshold=0.95, num_perm=128)\n",
    "\n",
    "minhashes = dict()\n",
    "\n",
    "for msg in test.iterrows():\n",
    "    m1 = MinHash(num_perm=128)\n",
    "\n",
    "    for word in msg[1]['msg']:\n",
    "        # Check Bloom filter before proceeding with LSH\n",
    "        if TwitchBloom.check_membership(word) == True:\n",
    "            print('Blocked word detected in message: ',msg[1]['body'])\n",
    "            break\n",
    "        else:\n",
    "            m1.update(word.encode('utf8'))\n",
    "    lsh.insert(msg[0], m1)\n",
    "    minhashes[msg[0]] = m1    \n"
   ]
  },
  {
   "cell_type": "code",
   "execution_count": 25,
   "id": "de68e116",
   "metadata": {},
   "outputs": [
    {
     "name": "stdout",
     "output_type": "stream",
     "text": [
      "BLOCKED!\n",
      "ID:  31193\n",
      "Message:  Clap2 rooPog\n",
      "Reason:  blocked for having a 95%+ similar message in this window/bin.\n",
      "\n",
      "\n",
      "1 messages blocked so far in this window/bin.\n",
      "BLOCKED!\n",
      "ID:  31699\n",
      "Message:  rooLove rooLove rooLove rooLove rooLove rooLove rooLove rooLove\n",
      "Reason:  blocked for having a 95%+ similar message in this window/bin.\n",
      "\n",
      "\n",
      "2 messages blocked so far in this window/bin.\n",
      "BLOCKED!\n",
      "ID:  31697\n",
      "Message:  rooLove rooLove rooLove rooLove rooLove rooLove rooLove rooLove rooLove rooLove rooLove\n",
      "Reason:  blocked for having a 95%+ similar message in this window/bin.\n",
      "\n",
      "\n",
      "3 messages blocked so far in this window/bin.\n",
      "BLOCKED!\n",
      "ID:  31696\n",
      "Message:  rooLove rooLove rooLove rooLove rooLove\n",
      "Reason:  blocked for having a 95%+ similar message in this window/bin.\n",
      "\n",
      "\n",
      "4 messages blocked so far in this window/bin.\n",
      "BLOCKED!\n",
      "ID:  31695\n",
      "Message:  rooLove rooLove rooLove\n",
      "Reason:  blocked for having a 95%+ similar message in this window/bin.\n",
      "\n",
      "\n",
      "5 messages blocked so far in this window/bin.\n",
      "BLOCKED!\n",
      "ID:  31694\n",
      "Message:  rooCry rooCry rooCry rooCry rooCry rooCry rooCry rooCry rooCry rooCry rooCry rooCry rooCry rooCry rooCry rooCry rooCry\n",
      "Reason:  blocked for having a 95%+ similar message in this window/bin.\n",
      "\n",
      "\n",
      "6 messages blocked so far in this window/bin.\n",
      "BLOCKED!\n",
      "ID:  31692\n",
      "Message:  rooLove rooLove rooLove rooLove rooLove rooLove rooLove rooLove\n",
      "Reason:  blocked for having a 95%+ similar message in this window/bin.\n",
      "\n",
      "\n",
      "7 messages blocked so far in this window/bin.\n",
      "BLOCKED!\n",
      "ID:  31688\n",
      "Message:  rooLove\n",
      "Reason:  blocked for having a 95%+ similar message in this window/bin.\n",
      "\n",
      "\n",
      "8 messages blocked so far in this window/bin.\n",
      "BLOCKED!\n",
      "ID:  31687\n",
      "Message:  rooLove\n",
      "Reason:  blocked for having a 95%+ similar message in this window/bin.\n",
      "\n",
      "\n",
      "9 messages blocked so far in this window/bin.\n",
      "BLOCKED!\n",
      "ID:  31686\n",
      "Message:  rooLove\n",
      "Reason:  blocked for having a 95%+ similar message in this window/bin.\n",
      "\n",
      "\n",
      "10 messages blocked so far in this window/bin.\n",
      "BLOCKED!\n",
      "ID:  31685\n",
      "Message:  rooLove rooLove rooLove rooLove rooLove rooLove rooLove rooLove rooLove\n",
      "Reason:  blocked for having a 95%+ similar message in this window/bin.\n",
      "\n",
      "\n",
      "...",
      "\n",
      "\n",
      "440 messages blocked so far in this window/bin.\n",
      "BLOCKED!\n",
      "ID:  30717\n",
      "Message:  danO\n",
      "Reason:  blocked for having a 95%+ similar message in this window/bin.\n",
      "\n",
      "\n",
      "441 messages blocked so far in this window/bin.\n",
      "BLOCKED!\n",
      "ID:  30712\n",
      "Message:  LUL\n",
      "Reason:  blocked for having a 95%+ similar message in this window/bin.\n",
      "\n",
      "\n",
      "442 messages blocked so far in this window/bin.\n",
      "BLOCKED!\n",
      "ID:  30711\n",
      "Message:  monkaS\n",
      "Reason:  blocked for having a 95%+ similar message in this window/bin.\n",
      "\n",
      "\n",
      "443 messages blocked so far in this window/bin.\n",
      "BLOCKED!\n",
      "ID:  30716\n",
      "Message:  rooKek\n",
      "Reason:  blocked for having a 95%+ similar message in this window/bin.\n",
      "\n",
      "\n",
      "444 messages blocked so far in this window/bin.\n",
      "BLOCKED!\n",
      "ID:  30705\n",
      "Message:  monkaS\n",
      "Reason:  blocked for having a 95%+ similar message in this window/bin.\n",
      "\n",
      "\n",
      "445 messages blocked so far in this window/bin.\n",
      "BLOCKED!\n",
      "ID:  30699\n",
      "Message:  monkaS\n",
      "Reason:  blocked for having a 95%+ similar message in this window/bin.\n",
      "\n",
      "\n",
      "446 messages blocked so far in this window/bin.\n",
      "Reduction of chat activity by 44.6%\n"
     ]
    }
   ],
   "source": [
    "# Now step 2:\n",
    "\n",
    "ctr = 0\n",
    "\n",
    "for i in (minhashes.keys()):\n",
    "    result = lsh.query(minhashes[i])\n",
    "    result.remove(i)\n",
    "    \n",
    "    # Two different thresholds; for a single word, a higher threshold\n",
    "    if len(test.loc[i]['body']) == 1:\n",
    "        if len(result) > 10:\n",
    "            ctr += 1\n",
    "            print('BLOCKED!')\n",
    "            print('ID: ', i)\n",
    "            print('Message: ', test.loc[i]['body'])\n",
    "            print('Reason: ', 'blocked for having a 95%+ similar message in this window/bin.')\n",
    "            print('\\n')\n",
    "            print(f'{ctr} messages blocked so far in this window/bin.')\n",
    "    elif len(test.loc[i]['body']) > 1:\n",
    "        if len(result) > 0:\n",
    "            ctr += 1\n",
    "            print('BLOCKED!')\n",
    "            print('ID: ', i)\n",
    "            print('Message: ', test.loc[i]['body'])\n",
    "            print('Reason: ', 'blocked for having a 95%+ similar message in this window/bin.')\n",
    "            print('\\n')\n",
    "            print(f'{ctr} messages blocked so far in this window/bin.')\n",
    "\n",
    "            \n",
    "print(f'Reduction of chat activity by {round((ctr/len(test))*100, 3)}%')"
   ]
  },
  {
   "cell_type": "markdown",
   "id": "49a8b6fe",
   "metadata": {},
   "source": [
    "#### Implementation: Bloom Filter & LSH Together on Simulated Streaming Data"
   ]
  },
  {
   "cell_type": "code",
   "execution_count": 51,
   "id": "4d34138d",
   "metadata": {
    "scrolled": true
   },
   "outputs": [
    {
     "name": "stderr",
     "output_type": "stream",
     "text": [
      "/tmp/ipykernel_2615/900842355.py:10: SettingWithCopyWarning: \n",
      "A value is trying to be set on a copy of a slice from a DataFrame.\n",
      "Try using .loc[row_indexer,col_indexer] = value instead\n",
      "\n",
      "See the caveats in the documentation: https://pandas.pydata.org/pandas-docs/stable/user_guide/indexing.html#returning-a-view-versus-a-copy\n",
      "  window['msg'] = window['body'].str.split()\n"
     ]
    },
    {
     "name": "stdout",
     "output_type": "stream",
     "text": [
      "Reduction of chat activity by 47.939% for bin/window 0 (791 out of 1650 messages)\n",
      "Bloom filter reduction: 64\n",
      "LSH reduction: 727\n",
      "\n",
      "Reduction of chat activity by 44.162% for bin/window 1 (870 out of 1970 messages)\n",
      "Bloom filter reduction: 73\n",
      "LSH reduction: 797\n",
      "\n",
      "Reduction of chat activity by 48.854% for bin/window 2 (1321 out of 2704 messages)\n",
      "Bloom filter reduction: 129\n",
      "LSH reduction: 1192\n",
      "\n",
      "Reduction of chat activity by 49.92% for bin/window 3 (1251 out of 2506 messages)\n",
      "Bloom filter reduction: 159\n",
      "LSH reduction: 1092\n",
      "\n",
      "Reduction of chat activity by 61.512% for bin/window 4 (1953 out of 3175 messages)\n",
      "Bloom filter reduction: 215\n",
      "LSH reduction: 1738\n",
      "\n",
      "Reduction of chat activity by 48.956% for bin/window 5 (1055 out of 2155 messages)\n",
      "Bloom filter reduction: 113\n",
      "LSH reduction: 942\n",
      "\n",
      "Reduction of chat activity by 44.968% for bin/window 6 (706 out of 1570 messages)\n",
      "Bloom filter reduction: 90\n",
      "LSH reduction: 616\n",
      "\n",
      "Reduction of chat activity by 40.882% for bin/window 7 (547 out of 1338 messages)\n",
      "Bloom filter reduction: 55\n",
      "LSH reduction: 492\n",
      "\n",
      "Reduction of chat activity by 60.062% for bin/window 8 (964 out of 1605 messages)\n",
      "Bloom filter reduction: 51\n",
      "LSH reduction: 913\n",
      "\n",
      "Reduction of chat activity by 41.809% for bin/window 9 (564 out of 1349 messages)\n",
      "Bloom filter reduction: 102\n",
      "LSH reduction: 462\n",
      "\n"
     ]
    }
   ],
   "source": [
    "# Now let's implement this on streaming data, by 'bins' defined above. Showing the first\n",
    "# 10 bins as an example.\n",
    "\n",
    "results = {\n",
    "\"volume\" : [],\n",
    "\"rate\" : []}\n",
    "\n",
    "for _bin in labels[:10]:\n",
    "    window = full_data.loc[full_data['bin'] == _bin]\n",
    "    window['msg'] = window['body'].str.split()\n",
    "    \n",
    "    \n",
    "    lsh = MinHashLSH(threshold=0.95, num_perm=128)\n",
    "    minhashes = dict()\n",
    "\n",
    "    ctr_bloom = 0\n",
    "    \n",
    "    for msg in window.iterrows():\n",
    "\n",
    "        m1 = MinHash(num_perm=128)\n",
    "\n",
    "        for word in msg[1]['msg']:\n",
    "            # Check Bloom filter before proceeding with LSH\n",
    "            if TwitchBloom.check_membership(word) == True:\n",
    "                ctr_bloom += 1\n",
    "                break\n",
    "            else:\n",
    "                m1.update(word.encode('utf8'))\n",
    "        lsh.insert(msg[0], m1)\n",
    "        minhashes[msg[0]] = m1\n",
    "    \n",
    "    ctr_lsh = 0\n",
    "\n",
    "    for i in (minhashes.keys()):\n",
    "        result = lsh.query(minhashes[i])\n",
    "        result.remove(i)\n",
    "\n",
    "        # Two different thresholds; for a single word, a higher threshold\n",
    "        if len(window.loc[i]['body']) == 1:\n",
    "            if len(result) > 10:\n",
    "                ctr_lsh += 1\n",
    "        elif len(window.loc[i]['body']) > 1:\n",
    "            if len(result) > 0:\n",
    "                ctr_lsh += 1\n",
    "\n",
    "    print(f'Reduction of chat activity by {round(((ctr_lsh+ctr_bloom)/len(window))*100,3)}% for bin/window {labels.index(_bin)} ({ctr_lsh+ctr_bloom} out of {len(window)} messages)')\n",
    "    print(f'Bloom filter reduction: {ctr_bloom}')\n",
    "    print(f'LSH reduction: {ctr_lsh}\\n')\n",
    "    results['volume'].append(len(window))\n",
    "    results['rate'].append(round(((ctr_lsh+ctr_bloom)/len(window))*100,3))"
   ]
  },
  {
   "cell_type": "code",
   "execution_count": 57,
   "id": "b6118b7e",
   "metadata": {},
   "outputs": [],
   "source": [
    "resultsDF = pd.DataFrame(results)"
   ]
  },
  {
   "cell_type": "code",
   "execution_count": 149,
   "id": "0c1eeab2",
   "metadata": {},
   "outputs": [
    {
     "data": {
      "image/png": "[encoded data removed]",
      "text/plain": [
       "<Figure size 1152x576 with 2 Axes>"
      ]
     },
     "metadata": {},
     "output_type": "display_data"
    }
   ],
   "source": [
    "import matplotlib.pyplot as plt\n",
    "import numpy as np\n",
    "\n",
    "fig, ax = plt.subplots(figsize=(16,8))\n",
    "\n",
    "width = .7\n",
    "\n",
    "m1_t = resultsDF\n",
    "\n",
    "m1_t['volume'].plot(kind='bar', width = width, color='C1')\n",
    "m1_t['rate'].plot(secondary_y=True, linewidth = 5)\n",
    "\n",
    "ax = plt.gca()\n",
    "ax.set_xticklabels(('Bin 0', 'Bin 1', 'Bin 2', 'Bin 3', 'Bin 4', 'Bin 5', 'Bin 6', 'Bin 7', 'Bin 8', 'Bin 9'))\n",
    "fig.suptitle('Message Volume (Bin) vs. Blocked Message Rate', fontsize=18)\n",
    "\n",
    "plt.xlabel('Volume')\n",
    "plt.ylabel('Rate')\n",
    "plt.show()"
   ]
  },
  {
   "cell_type": "markdown",
   "id": "5a5f3ae0",
   "metadata": {},
   "source": [
    "#### Time Complexity Comparison: Bloom Filter vs. Traditionally Checking Membership"
   ]
  },
  {
   "cell_type": "code",
   "execution_count": 156,
   "id": "13ebfb7e",
   "metadata": {},
   "outputs": [
    {
     "name": "stderr",
     "output_type": "stream",
     "text": [
      "/tmp/ipykernel_2615/1833061481.py:4: SettingWithCopyWarning: \n",
      "A value is trying to be set on a copy of a slice from a DataFrame.\n",
      "Try using .loc[row_indexer,col_indexer] = value instead\n",
      "\n",
      "See the caveats in the documentation: https://pandas.pydata.org/pandas-docs/stable/user_guide/indexing.html#returning-a-view-versus-a-copy\n",
      "  benchmark_df['msg'] = benchmark_df['body'].str.split()\n"
     ]
    }
   ],
   "source": [
    "# Now let's compare how long it takes to check membership using a Bloom filer vs. 'is in' syntax.\n",
    "\n",
    "benchmark_df = full_data.head(10000)\n",
    "benchmark_df['msg'] = benchmark_df['body'].str.split()\n",
    "\n",
    "results = {\n",
    "\"Size (n)\" : [],\n",
    "\"LSH Time (s)\" : [],\n",
    "\"Manual Time (s)\" : []}\n",
    "\n",
    "range_ = range(1,10,2)\n",
    "\n",
    "for i in range_:\n",
    "    hateWords_benchmark = hateWords*i\n",
    "    Bloom_bench = BloomFilter(hateWords_benchmark)\n",
    "    start_time = time.time()\n",
    "    for msg in benchmark_df.iterrows():\n",
    "        for word in msg[1]['msg']:\n",
    "            Bloom_bench.check_membership(word)\n",
    "    stop_time = time.time()\n",
    "    results[\"Size (n)\"].append(len(hateWords_benchmark))\n",
    "    results[\"LSH Time (s)\"].append(stop_time-start_time)\n",
    "    \n",
    "    \n",
    "for i in range_:\n",
    "    hateWords_benchmark = hateWords*i\n",
    "    start_time = time.time()\n",
    "    for msg in benchmark_df.iterrows():\n",
    "        for word in msg[1]['msg']:\n",
    "            if word in hateWords_benchmark:\n",
    "                pass\n",
    "    stop_time = time.time()\n",
    "    results[\"Manual Time (s)\"].append(stop_time-start_time)"
   ]
  },
  {
   "cell_type": "code",
   "execution_count": 157,
   "id": "21e9d61f",
   "metadata": {},
   "outputs": [
    {
     "data": {
      "text/plain": [
       "{'Size (n)': [723, 2169, 3615, 5061, 6507],\n",
       " 'LSH Time (s)': [1.418097734451294,\n",
       "  1.3914134502410889,\n",
       "  1.3992421627044678,\n",
       "  1.4005613327026367,\n",
       "  1.4040391445159912],\n",
       " 'Manual Time (s)': [1.1014132499694824,\n",
       "  1.869292974472046,\n",
       "  2.6180291175842285,\n",
       "  3.360520124435425,\n",
       "  4.12244439125061]}"
      ]
     },
     "execution_count": 157,
     "metadata": {},
     "output_type": "execute_result"
    }
   ],
   "source": [
    "results"
   ]
  },
  {
   "cell_type": "code",
   "execution_count": 174,
   "id": "2a231e9d",
   "metadata": {},
   "outputs": [
    {
     "data": {
      "text/plain": [
       "Text(0.5, 0, 'Size of List (n)')"
      ]
     },
     "execution_count": 174,
     "metadata": {},
     "output_type": "execute_result"
    },
    {
     "data": {
      "image/png": "[encoded data removed]",
      "text/plain": [
       "<Figure size 1080x576 with 1 Axes>"
      ]
     },
     "metadata": {},
     "output_type": "display_data"
    }
   ],
   "source": [
    "import pandas as pd\n",
    "import matplotlib.pyplot as plt\n",
    "import seaborn as sns\n",
    "\n",
    "resultsDF = pd.DataFrame(results).set_index('Size (n)')\n",
    "p = sns.lineplot(data = resultsDF)\n",
    "\n",
    "p.set_title('Time Complexity Comparison: Bloom Filter vs. Traditionally Checking Membership', fontsize = 16)\n",
    "\n",
    "p.set_ylabel(\"Time (seconds)\", fontsize = 14)\n",
    "p.set_xlabel(\"Size of List (n)\", fontsize = 14)"
   ]
  },
  {
   "cell_type": "code",
   "execution_count": null,
   "id": "aaf0f79d",
   "metadata": {},
   "outputs": [],
   "source": [
    "# We very clearly see O(1) complexity for the Bloom filter and O(n) for checking membership via 'is in'."
   ]
  },
  {
   "cell_type": "markdown",
   "id": "2aaeddb5",
   "metadata": {},
   "source": [
    "### Spark (PySpark)"
   ]
  },
  {
   "cell_type": "markdown",
   "id": "ee3acf00",
   "metadata": {},
   "source": [
    "#### Spark Streaming Example"
   ]
  },
  {
   "cell_type": "code",
   "execution_count": 2,
   "id": "b132eb25-2baa-4e11-b940-3d296d08a905",
   "metadata": {},
   "outputs": [
    {
     "name": "stderr",
     "output_type": "stream",
     "text": [
      "Setting default log level to \"WARN\".\n",
      "To adjust logging level use sc.setLogLevel(newLevel). For SparkR, use setLogLevel(newLevel).\n"
     ]
    }
   ],
   "source": [
    "# Create a Spark Session\n",
    "\n",
    "spark = SparkSession.builder.getOrCreate()"
   ]
  },
  {
   "cell_type": "code",
   "execution_count": 3,
   "id": "b958ce8f-1ebb-42c3-8d8e-6d74a756982f",
   "metadata": {},
   "outputs": [
    {
     "name": "stderr",
     "output_type": "stream",
     "text": [
      "                                                                                \r"
     ]
    }
   ],
   "source": [
    "# Import a single CSV to infer the schema, so this schema can be set for the entire stream.\n",
    "\n",
    "part = spark.read.csv(\n",
    "    'gs://dataproc-staging-us-east1-935674292254-8vstrevf/Twitch_data/CSV_data/000001.csv',\n",
    "    header=True,\n",
    "    inferSchema=True,\n",
    ")"
   ]
  },
  {
   "cell_type": "code",
   "execution_count": 4,
   "id": "7f974af6-8dbd-4326-a636-562e1d2a9536",
   "metadata": {},
   "outputs": [
    {
     "data": {
      "text/plain": [
       "StructType(List(StructField(_c0,IntegerType,true),StructField(body,StringType,true),StructField(channel_id,IntegerType,true),StructField(commenter_id,IntegerType,true),StructField(created_at,StringType,true),StructField(video_id,IntegerType,true),StructField(bin,IntegerType,true)))"
      ]
     },
     "execution_count": 4,
     "metadata": {},
     "output_type": "execute_result"
    }
   ],
   "source": [
    "dataSchema = part.schema\n",
    "dataSchema"
   ]
  },
  {
   "cell_type": "code",
   "execution_count": 5,
   "id": "396677cf-f786-404d-83bc-234cbe1befce",
   "metadata": {},
   "outputs": [],
   "source": [
    "# Start streaming data (only the first 100 CSVs are used here)\n",
    "\n",
    "streaming = (\n",
    "    spark.readStream.schema(dataSchema)\n",
    "    .option('maxFilesPerTrigger', 1)\n",
    "    .csv('gs://dataproc-staging-us-east1-935674292254-8vstrevf/Twitch_data/CSV_data_first100/')\n",
    ")"
   ]
  },
  {
   "cell_type": "code",
   "execution_count": 9,
   "id": "196ac051-857d-4d9c-8b54-78aba207239d",
   "metadata": {},
   "outputs": [
    {
     "name": "stderr",
     "output_type": "stream",
     "text": [
      "21/11/30 01:52:45 WARN org.apache.spark.sql.streaming.StreamingQueryManager: Temporary checkpoint location created which is deleted normally when the query didn't fail: /tmp/temporary-48546e32-dd2e-42f3-8899-4b35e2041d59. If it's required to delete it under any circumstances, please set spark.sql.streaming.forceDeleteTempCheckpointLocation to true. Important to know deleting temp checkpoint folder is best effort.\n",
      "21/11/30 01:52:45 WARN org.apache.spark.sql.streaming.StreamingQueryManager: spark.sql.adaptive.enabled is not supported in streaming DataFrames/Datasets and will be disabled.\n",
      "                                                                                \r"
     ]
    },
    {
     "name": "stdout",
     "output_type": "stream",
     "text": [
      "+--------------------+-----+\n",
      "|                body|count|\n",
      "+--------------------+-----+\n",
      "|Is this the seque...|    1|\n",
      "|               !duck|    3|\n",
      "|999 red balloons ...|    1|\n",
      "|             PepePls|    2|\n",
      "|                 666|    1|\n",
      "|ooh buy I love th...|    1|\n",
      "|I am working ON T...|    1|\n",
      "|                  ye|    1|\n",
      "|That was fast. Ba...|    1|\n",
      "| @therealkamael roo7|    1|\n",
      "+--------------------+-----+\n",
      "only showing top 10 rows\n",
      "\n"
     ]
    },
    {
     "name": "stderr",
     "output_type": "stream",
     "text": [
      "                                                                                \r"
     ]
    },
    {
     "name": "stdout",
     "output_type": "stream",
     "text": [
      "+--------------------+-----+\n",
      "|                body|count|\n",
      "+--------------------+-----+\n",
      "|Is this the seque...|    1|\n",
      "|               !duck|    3|\n",
      "|999 red balloons ...|    1|\n",
      "|             PepePls|    2|\n",
      "|                 666|    1|\n",
      "|ooh buy I love th...|    1|\n",
      "|I am working ON T...|    1|\n",
      "|                  ye|    1|\n",
      "|That was fast. Ba...|    1|\n",
      "| @therealkamael roo7|    1|\n",
      "+--------------------+-----+\n",
      "only showing top 10 rows\n",
      "\n"
     ]
    },
    {
     "name": "stderr",
     "output_type": "stream",
     "text": [
      "                                                                                \r"
     ]
    },
    {
     "name": "stdout",
     "output_type": "stream",
     "text": [
      "+--------------------+-----+\n",
      "|                body|count|\n",
      "+--------------------+-----+\n",
      "|Is this the seque...|    1|\n",
      "|               !duck|    3|\n",
      "|999 red balloons ...|    1|\n",
      "|             PepePls|    2|\n",
      "|                 666|    1|\n",
      "|ooh buy I love th...|    1|\n",
      "|I am working ON T...|    1|\n",
      "|                  ye|    1|\n",
      "|That was fast. Ba...|    1|\n",
      "| @therealkamael roo7|    1|\n",
      "+--------------------+-----+\n",
      "only showing top 10 rows\n",
      "\n"
     ]
    },
    {
     "name": "stderr",
     "output_type": "stream",
     "text": [
      "                                                                                \r"
     ]
    },
    {
     "name": "stdout",
     "output_type": "stream",
     "text": [
      "+--------------------+-----+\n",
      "|                body|count|\n",
      "+--------------------+-----+\n",
      "|Is this the seque...|    1|\n",
      "|               !duck|    3|\n",
      "|999 red balloons ...|    1|\n",
      "|             PepePls|    2|\n",
      "|                 666|    1|\n",
      "|ooh buy I love th...|    1|\n",
      "|I am working ON T...|    1|\n",
      "|                  ye|    1|\n",
      "|That was fast. Ba...|    1|\n",
      "| @therealkamael roo7|    1|\n",
      "+--------------------+-----+\n",
      "only showing top 10 rows\n",
      "\n"
     ]
    },
    {
     "name": "stderr",
     "output_type": "stream",
     "text": [
      "                                                                                \r"
     ]
    },
    {
     "name": "stdout",
     "output_type": "stream",
     "text": [
      "+--------------------+-----+\n",
      "|                body|count|\n",
      "+--------------------+-----+\n",
      "|Is this the seque...|    1|\n",
      "|               !duck|    3|\n",
      "|999 red balloons ...|    1|\n",
      "|             PepePls|    2|\n",
      "|                 666|    1|\n",
      "|ooh buy I love th...|    1|\n",
      "|I am working ON T...|    1|\n",
      "|                  ye|    1|\n",
      "|That was fast. Ba...|    1|\n",
      "| @therealkamael roo7|    1|\n",
      "+--------------------+-----+\n",
      "only showing top 10 rows\n",
      "\n"
     ]
    },
    {
     "name": "stderr",
     "output_type": "stream",
     "text": [
      "                                                                                \r"
     ]
    },
    {
     "name": "stdout",
     "output_type": "stream",
     "text": [
      "+--------------------+-----+\n",
      "|                body|count|\n",
      "+--------------------+-----+\n",
      "|Is this the seque...|    1|\n",
      "|               !duck|    3|\n",
      "|999 red balloons ...|    1|\n",
      "|             PepePls|    2|\n",
      "|                 666|    1|\n",
      "|ooh buy I love th...|    1|\n",
      "|I am working ON T...|    1|\n",
      "|                  ye|    1|\n",
      "|That was fast. Ba...|    1|\n",
      "| @therealkamael roo7|    1|\n",
      "+--------------------+-----+\n",
      "only showing top 10 rows\n",
      "\n",
      "+--------------------+-----+\n",
      "|                body|count|\n",
      "+--------------------+-----+\n",
      "|Is this the seque...|    1|\n",
      "|               !duck|    3|\n",
      "|999 red balloons ...|    1|\n",
      "|             PepePls|    2|\n",
      "|                 666|    1|\n",
      "|ooh buy I love th...|    1|\n",
      "|I am working ON T...|    1|\n",
      "|                  ye|    1|\n",
      "|That was fast. Ba...|    1|\n",
      "| @therealkamael roo7|    1|\n",
      "+--------------------+-----+\n",
      "only showing top 10 rows\n",
      "\n"
     ]
    },
    {
     "name": "stderr",
     "output_type": "stream",
     "text": [
      "                                                                                \r"
     ]
    },
    {
     "name": "stdout",
     "output_type": "stream",
     "text": [
      "+--------------------+-----+\n",
      "|                body|count|\n",
      "+--------------------+-----+\n",
      "|Is this the seque...|    1|\n",
      "|               !duck|    3|\n",
      "|999 red balloons ...|    1|\n",
      "|             PepePls|    2|\n",
      "|                 666|    1|\n",
      "|ooh buy I love th...|    1|\n",
      "|I am working ON T...|    1|\n",
      "|                  ye|    1|\n",
      "|That was fast. Ba...|    1|\n",
      "| @therealkamael roo7|    1|\n",
      "+--------------------+-----+\n",
      "only showing top 10 rows\n",
      "\n"
     ]
    },
    {
     "name": "stderr",
     "output_type": "stream",
     "text": [
      "                                                                                \r"
     ]
    },
    {
     "name": "stdout",
     "output_type": "stream",
     "text": [
      "+--------------------+-----+\n",
      "|                body|count|\n",
      "+--------------------+-----+\n",
      "|Is this the seque...|    1|\n",
      "|               !duck|    3|\n",
      "|999 red balloons ...|    1|\n",
      "|             PepePls|    2|\n",
      "|                 666|    1|\n",
      "|ooh buy I love th...|    1|\n",
      "|I am working ON T...|    1|\n",
      "|                  ye|    1|\n",
      "|That was fast. Ba...|    1|\n",
      "| @therealkamael roo7|    1|\n",
      "+--------------------+-----+\n",
      "only showing top 10 rows\n",
      "\n"
     ]
    },
    {
     "name": "stderr",
     "output_type": "stream",
     "text": [
      "                                                                                \r"
     ]
    },
    {
     "name": "stdout",
     "output_type": "stream",
     "text": [
      "+--------------------+-----+\n",
      "|                body|count|\n",
      "+--------------------+-----+\n",
      "|Is this the seque...|    1|\n",
      "|               !duck|    3|\n",
      "|999 red balloons ...|    1|\n",
      "|             PepePls|    2|\n",
      "|                 666|    1|\n",
      "|ooh buy I love th...|    1|\n",
      "|I am working ON T...|    1|\n",
      "|                  ye|    1|\n",
      "|That was fast. Ba...|    1|\n",
      "| @therealkamael roo7|    1|\n",
      "+--------------------+-----+\n",
      "only showing top 10 rows\n",
      "\n"
     ]
    },
    {
     "name": "stderr",
     "output_type": "stream",
     "text": [
      "                                                                                \r"
     ]
    },
    {
     "name": "stdout",
     "output_type": "stream",
     "text": [
      "+--------------------+-----+\n",
      "|                body|count|\n",
      "+--------------------+-----+\n",
      "|Is this the seque...|    1|\n",
      "|               !duck|    3|\n",
      "|999 red balloons ...|    1|\n",
      "|             PepePls|    2|\n",
      "|                 666|    1|\n",
      "|ooh buy I love th...|    1|\n",
      "|I am working ON T...|    1|\n",
      "|                  ye|    1|\n",
      "|That was fast. Ba...|    1|\n",
      "| @therealkamael roo7|    1|\n",
      "+--------------------+-----+\n",
      "only showing top 10 rows\n",
      "\n"
     ]
    },
    {
     "name": "stderr",
     "output_type": "stream",
     "text": [
      "                                                                                \r"
     ]
    },
    {
     "name": "stdout",
     "output_type": "stream",
     "text": [
      "+--------------------+-----+\n",
      "|                body|count|\n",
      "+--------------------+-----+\n",
      "|Is this the seque...|    1|\n",
      "|               !duck|    3|\n",
      "|999 red balloons ...|    1|\n",
      "|             PepePls|    2|\n",
      "|                 666|    1|\n",
      "|ooh buy I love th...|    1|\n",
      "|I am working ON T...|    1|\n",
      "|                  ye|    1|\n",
      "|That was fast. Ba...|    1|\n",
      "| @therealkamael roo7|    1|\n",
      "+--------------------+-----+\n",
      "only showing top 10 rows\n",
      "\n"
     ]
    },
    {
     "name": "stderr",
     "output_type": "stream",
     "text": [
      "                                                                                \r"
     ]
    },
    {
     "name": "stdout",
     "output_type": "stream",
     "text": [
      "+--------------------+-----+\n",
      "|                body|count|\n",
      "+--------------------+-----+\n",
      "|Is this the seque...|    1|\n",
      "|               !duck|    3|\n",
      "|999 red balloons ...|    1|\n",
      "|             PepePls|    2|\n",
      "|                 666|    1|\n",
      "|ooh buy I love th...|    1|\n",
      "|I am working ON T...|    1|\n",
      "|                  ye|    1|\n",
      "|That was fast. Ba...|    1|\n",
      "| @therealkamael roo7|    1|\n",
      "+--------------------+-----+\n",
      "only showing top 10 rows\n",
      "\n"
     ]
    },
    {
     "name": "stderr",
     "output_type": "stream",
     "text": [
      "                                                                                \r"
     ]
    },
    {
     "name": "stdout",
     "output_type": "stream",
     "text": [
      "+--------------------+-----+\n",
      "|                body|count|\n",
      "+--------------------+-----+\n",
      "|Is this the seque...|    1|\n",
      "|               !duck|    3|\n",
      "|999 red balloons ...|    1|\n",
      "|             PepePls|    2|\n",
      "|                 666|    1|\n",
      "|ooh buy I love th...|    1|\n",
      "|I am working ON T...|    1|\n",
      "|                  ye|    1|\n",
      "|That was fast. Ba...|    1|\n",
      "| @therealkamael roo7|    1|\n",
      "+--------------------+-----+\n",
      "only showing top 10 rows\n",
      "\n",
      "+--------------------+-----+\n",
      "|                body|count|\n",
      "+--------------------+-----+\n",
      "|        monkaSHAKE ⌚|    1|\n",
      "|Is this the seque...|    1|\n",
      "|     rescVV1 rescVV2|    1|\n",
      "|               !duck|    3|\n",
      "|999 red balloons ...|    1|\n",
      "|             PepePls|    2|\n",
      "|                 666|    1|\n",
      "|               haloo|    1|\n",
      "|ooh buy I love th...|    1|\n",
      "|              HEWWO?|    1|\n",
      "+--------------------+-----+\n",
      "only showing top 10 rows\n",
      "\n",
      "+--------------------+-----+\n",
      "|                body|count|\n",
      "+--------------------+-----+\n",
      "|        monkaSHAKE ⌚|    1|\n",
      "|Is this the seque...|    1|\n",
      "|     rescVV1 rescVV2|    1|\n",
      "|               !duck|    3|\n",
      "|999 red balloons ...|    1|\n",
      "|             PepePls|    2|\n",
      "|                 666|    1|\n",
      "|               haloo|    1|\n",
      "|ooh buy I love th...|    1|\n",
      "|              HEWWO?|    1|\n",
      "+--------------------+-----+\n",
      "only showing top 10 rows\n",
      "\n"
     ]
    },
    {
     "name": "stderr",
     "output_type": "stream",
     "text": [
      "                                                                                \r"
     ]
    },
    {
     "name": "stdout",
     "output_type": "stream",
     "text": [
      "+--------------------+-----+\n",
      "|                body|count|\n",
      "+--------------------+-----+\n",
      "|        monkaSHAKE ⌚|    1|\n",
      "|Is this the seque...|    1|\n",
      "|     rescVV1 rescVV2|    1|\n",
      "|               !duck|    3|\n",
      "|999 red balloons ...|    1|\n",
      "|             PepePls|    2|\n",
      "|                 666|    1|\n",
      "|               haloo|    1|\n",
      "|ooh buy I love th...|    1|\n",
      "|              HEWWO?|    1|\n",
      "+--------------------+-----+\n",
      "only showing top 10 rows\n",
      "\n",
      "+--------------------+-----+\n",
      "|                body|count|\n",
      "+--------------------+-----+\n",
      "|        monkaSHAKE ⌚|    1|\n",
      "|Is this the seque...|    1|\n",
      "|     rescVV1 rescVV2|    1|\n",
      "|               !duck|    3|\n",
      "|999 red balloons ...|    1|\n",
      "|             PepePls|    2|\n",
      "|                 666|    1|\n",
      "|               haloo|    1|\n",
      "|ooh buy I love th...|    1|\n",
      "|              HEWWO?|    1|\n",
      "+--------------------+-----+\n",
      "only showing top 10 rows\n",
      "\n"
     ]
    },
    {
     "name": "stderr",
     "output_type": "stream",
     "text": [
      "                                                                                \r"
     ]
    },
    {
     "name": "stdout",
     "output_type": "stream",
     "text": [
      "+--------------------+-----+\n",
      "|                body|count|\n",
      "+--------------------+-----+\n",
      "|        monkaSHAKE ⌚|    1|\n",
      "|Is this the seque...|    1|\n",
      "|     rescVV1 rescVV2|    1|\n",
      "|               !duck|    3|\n",
      "|999 red balloons ...|    1|\n",
      "|             PepePls|    2|\n",
      "|                 666|    1|\n",
      "|               haloo|    1|\n",
      "|ooh buy I love th...|    1|\n",
      "|              HEWWO?|    1|\n",
      "+--------------------+-----+\n",
      "only showing top 10 rows\n",
      "\n"
     ]
    },
    {
     "name": "stderr",
     "output_type": "stream",
     "text": [
      "                                                                                \r"
     ]
    },
    {
     "name": "stdout",
     "output_type": "stream",
     "text": [
      "+--------------------+-----+\n",
      "|                body|count|\n",
      "+--------------------+-----+\n",
      "|        monkaSHAKE ⌚|    1|\n",
      "|Is this the seque...|    1|\n",
      "|     rescVV1 rescVV2|    1|\n",
      "|               !duck|    3|\n",
      "|999 red balloons ...|    1|\n",
      "|             PepePls|    2|\n",
      "|                 666|    1|\n",
      "|               haloo|    1|\n",
      "|ooh buy I love th...|    1|\n",
      "|              HEWWO?|    1|\n",
      "+--------------------+-----+\n",
      "only showing top 10 rows\n",
      "\n"
     ]
    },
    {
     "name": "stderr",
     "output_type": "stream",
     "text": [
      "                                                                                \r"
     ]
    },
    {
     "name": "stdout",
     "output_type": "stream",
     "text": [
      "+--------------------+-----+\n",
      "|                body|count|\n",
      "+--------------------+-----+\n",
      "|        monkaSHAKE ⌚|    1|\n",
      "|Is this the seque...|    1|\n",
      "|     rescVV1 rescVV2|    1|\n",
      "|               !duck|    3|\n",
      "|999 red balloons ...|    1|\n",
      "|             PepePls|    2|\n",
      "|                 666|    1|\n",
      "|               haloo|    1|\n",
      "|ooh buy I love th...|    1|\n",
      "|              HEWWO?|    1|\n",
      "+--------------------+-----+\n",
      "only showing top 10 rows\n",
      "\n"
     ]
    }
   ],
   "source": [
    "# Example of streaming data based on loaded Twitch dataset. Ideally, the Spark models shown below would be\n",
    "# applied to the _df object throughout the stream, but as mentioned our cluster was not powerful enough to\n",
    "# do this given the volume of data.\n",
    "\n",
    "# To stop run 'activityQuery.stop()'\n",
    "\n",
    "dest_count = streaming.groupBy('body').count()\n",
    "\n",
    "activityQuery = (\n",
    "    dest_count.writeStream.queryName(\"msg_counter\")\n",
    "    .format(\"memory\")\n",
    "    .outputMode(\"complete\")\n",
    "    .start()\n",
    ")\n",
    "      \n",
    "for x in range(50):\n",
    "    _df = spark.sql(\n",
    "        \"SELECT * FROM msg_counter\"\n",
    "#         \"SELECT * FROM msg_counter WHERE body != 'body' AND count >= 2\"\n",
    "    )\n",
    "    if _df.count() > 0:\n",
    "        _df.show(10)\n",
    "    time.sleep(0.5)"
   ]
  },
  {
   "cell_type": "code",
   "execution_count": 10,
   "id": "3c8c1ded-46a9-4244-95a9-9bb8392e9c13",
   "metadata": {},
   "outputs": [
    {
     "data": {
      "text/plain": [
       "True"
      ]
     },
     "execution_count": 10,
     "metadata": {},
     "output_type": "execute_result"
    },
    {
     "name": "stderr",
     "output_type": "stream",
     "text": [
      "[Stage 151:=====================>                                (81 + 4) / 200]\r"
     ]
    }
   ],
   "source": [
    "spark.streams.active[0].isActive"
   ]
  },
  {
   "cell_type": "code",
   "execution_count": 11,
   "id": "de229c61-5fde-4e51-a8d2-4eae4c2f278e",
   "metadata": {},
   "outputs": [
    {
     "data": {
      "text/plain": [
       "{'message': 'Processing new data',\n",
       " 'isDataAvailable': True,\n",
       " 'isTriggerActive': True}"
      ]
     },
     "execution_count": 11,
     "metadata": {},
     "output_type": "execute_result"
    },
    {
     "name": "stderr",
     "output_type": "stream",
     "text": [
      "[Stage 151:=====================================>               (143 + 4) / 200]\r"
     ]
    }
   ],
   "source": [
    "activityQuery.status"
   ]
  },
  {
   "cell_type": "code",
   "execution_count": 12,
   "id": "9323c30f-fe3e-430f-a240-e08be6b0fac0",
   "metadata": {},
   "outputs": [
    {
     "name": "stderr",
     "output_type": "stream",
     "text": [
      "21/11/30 01:53:40 ERROR org.apache.spark.sql.execution.datasources.v2.WriteToDataSourceV2Exec: Data source write support org.apache.spark.sql.execution.streaming.sources.MicroBatchWrite@2be75e6b is aborting.\n",
      "21/11/30 01:53:40 ERROR org.apache.spark.sql.execution.datasources.v2.WriteToDataSourceV2Exec: Data source write support org.apache.spark.sql.execution.streaming.sources.MicroBatchWrite@2be75e6b aborted.\n",
      "21/11/30 01:53:40 WARN org.apache.spark.scheduler.TaskSetManager: Lost task 185.0 in stage 151.0 (TID 900) (final-project-m.c.final-project-331801.internal executor 3): TaskKilled (Stage cancelled)\n",
      "21/11/30 01:53:40 WARN org.apache.spark.scheduler.TaskSetManager: Lost task 194.0 in stage 151.0 (TID 908) (final-project-m.c.final-project-331801.internal executor 3): TaskKilled (Stage cancelled)\n",
      "21/11/30 01:53:40 WARN org.apache.spark.scheduler.TaskSetManager: Lost task 80.0 in stage 151.0 (TID 903) (final-project-m.c.final-project-331801.internal executor 2): TaskKilled (Stage cancelled)\n",
      "21/11/30 01:53:40 WARN org.apache.spark.scheduler.TaskSetManager: Lost task 76.0 in stage 151.0 (TID 899) (final-project-m.c.final-project-331801.internal executor 2): TaskKilled (Stage cancelled)\n"
     ]
    }
   ],
   "source": [
    "activityQuery.stop()"
   ]
  },
  {
   "cell_type": "markdown",
   "id": "2525113a",
   "metadata": {},
   "source": [
    "#### Applying LSH via PySpark Example"
   ]
  },
  {
   "cell_type": "code",
   "execution_count": 13,
   "id": "fe3b2664-f624-40dd-b9fe-36446594b3df",
   "metadata": {},
   "outputs": [
    {
     "name": "stdout",
     "output_type": "stream",
     "text": [
      "root\n",
      " |-- _c0: integer (nullable = true)\n",
      " |-- body: array (nullable = true)\n",
      " |    |-- element: string (containsNull = true)\n",
      " |-- channel_id: integer (nullable = true)\n",
      " |-- commenter_id: integer (nullable = true)\n",
      " |-- created_at: string (nullable = true)\n",
      " |-- video_id: integer (nullable = true)\n",
      " |-- bin: integer (nullable = true)\n",
      "\n",
      "+-------+--------------------+----------+------------+--------------------+---------+---+\n",
      "|    _c0|                body|channel_id|commenter_id|          created_at| video_id|bin|\n",
      "+-------+--------------------+----------+------------+--------------------+---------+---+\n",
      "|3571405|[ZTD, memories, r...|  40972890|    23623176|2018-03-06 18:25:...|247607785|  1|\n",
      "|3571400|  [rooOhISam, right]|  40972890|    82351926|2018-03-06 18:25:...|247607785|  1|\n",
      "|3571401|       [What, rooVV]|  40972890|   166143538|2018-03-06 18:25:...|247607785|  1|\n",
      "|3571384|        [Spaceshipp]|  40972890|    44241565|2018-03-06 18:25:...|247607785|  1|\n",
      "|3571402|                 [?]|  40972890|    62335252|2018-03-06 18:25:...|247607785|  1|\n",
      "|3571403|           [rooWhat]|  40972890|    49534518|2018-03-06 18:25:...|247607785|  1|\n",
      "|3571404|[5, endings, POGG...|  40972890|   148207282|2018-03-06 18:25:...|247607785|  1|\n",
      "|3571411|[\"I, think, if, y...|  40972890|    57785819|2018-03-06 18:25:...|247607785|  1|\n",
      "|3571406|      [Stor, rooREE]|  40972890|    61747377|2018-03-06 18:25:...|247607785|  1|\n",
      "|3571407|           [rooWhat]|  40972890|   146609060|2018-03-06 18:25:...|247607785|  1|\n",
      "|3571408|[@Daawgh, Akane,,...|  40972890|   150893693|2018-03-06 18:25:...|247607785|  1|\n",
      "|3571409|            [monkaS]|  40972890|    51789508|2018-03-06 18:25:...|247607785|  1|\n",
      "|3571410|            [OhISam]|  40972890|    19833828|2018-03-06 18:25:...|247607785|  1|\n",
      "|3571397|        [monkaSHAKE]|  40972890|   175075263|2018-03-06 18:25:...|247607785|  1|\n",
      "|3571398|[ero, visual, nov...|  40972890|    22289649|2018-03-06 18:25:...|247607785|  1|\n",
      "|3571380|              [boop]|  40972890|    27713718|2018-03-06 18:25:...|247607785|  1|\n",
      "|3571396|   [choices, monkaS]|  40972890|    27713718|2018-03-06 18:25:...|247607785|  1|\n",
      "|3571395|           [rooWhat]|  40972890|    19264788|2018-03-06 18:25:...|247607785|  1|\n",
      "|3571394|           [rooWhat]|  40972890|    42633473|2018-03-06 18:25:...|247607785|  1|\n",
      "|3571393|[@Freon22, he, be...|  40972890|    43988906|2018-03-06 18:25:...|247607785|  1|\n",
      "+-------+--------------------+----------+------------+--------------------+---------+---+\n",
      "only showing top 20 rows\n",
      "\n"
     ]
    },
    {
     "name": "stderr",
     "output_type": "stream",
     "text": [
      "                                                                                \r"
     ]
    }
   ],
   "source": [
    "from pyspark.ml.feature import CountVectorizer\n",
    "from pyspark.sql.functions import split, col\n",
    "\n",
    "# First, we must take the messages ('body') and vectorize them. However, before we can do this, we need\n",
    "# to change the column from a string to an array.\n",
    "\n",
    "LSH_df = part.withColumn(\"body\", split(col(\"body\"),\" \"))\n",
    "\n",
    "LSH_df.printSchema()\n",
    "LSH_df.show()"
   ]
  },
  {
   "cell_type": "code",
   "execution_count": 14,
   "id": "be6f740c",
   "metadata": {},
   "outputs": [
    {
     "name": "stdout",
     "output_type": "stream",
     "text": [
      "+-------+--------------------+----------+------------+--------------------+---------+---+--------------------+\n",
      "|    _c0|                body|channel_id|commenter_id|          created_at| video_id|bin|            features|\n",
      "+-------+--------------------+----------+------------+--------------------+---------+---+--------------------+\n",
      "|3571405|[ZTD, memories, r...|  40972890|    23623176|2018-03-06 18:25:...|247607785|  1|(784,[18,428,626]...|\n",
      "|3571400|  [rooOhISam, right]|  40972890|    82351926|2018-03-06 18:25:...|247607785|  1|(784,[123,125],[1...|\n",
      "|3571401|       [What, rooVV]|  40972890|   166143538|2018-03-06 18:25:...|247607785|  1|(784,[0,60],[1.0,...|\n",
      "|3571384|        [Spaceshipp]|  40972890|    44241565|2018-03-06 18:25:...|247607785|  1|   (784,[482],[1.0])|\n",
      "|3571402|                 [?]|  40972890|    62335252|2018-03-06 18:25:...|247607785|  1|    (784,[77],[1.0])|\n",
      "|3571403|           [rooWhat]|  40972890|    49534518|2018-03-06 18:25:...|247607785|  1|    (784,[42],[1.0])|\n",
      "|3571404|[5, endings, POGG...|  40972890|   148207282|2018-03-06 18:25:...|247607785|  1|(784,[139,538,708...|\n",
      "|3571411|[\"I, think, if, y...|  40972890|    57785819|2018-03-06 18:25:...|247607785|  1|(784,[3,15,22,107...|\n",
      "|3571406|      [Stor, rooREE]|  40972890|    61747377|2018-03-06 18:25:...|247607785|  1|(784,[1,734],[1.0...|\n",
      "|3571407|           [rooWhat]|  40972890|   146609060|2018-03-06 18:25:...|247607785|  1|    (784,[42],[1.0])|\n",
      "|3571408|[@Daawgh, Akane,,...|  40972890|   150893693|2018-03-06 18:25:...|247607785|  1|(784,[307,321,484...|\n",
      "|3571409|            [monkaS]|  40972890|    51789508|2018-03-06 18:25:...|247607785|  1|     (784,[8],[1.0])|\n",
      "|3571410|            [OhISam]|  40972890|    19833828|2018-03-06 18:25:...|247607785|  1|   (784,[747],[1.0])|\n",
      "|3571397|        [monkaSHAKE]|  40972890|   175075263|2018-03-06 18:25:...|247607785|  1|    (784,[11],[1.0])|\n",
      "|3571398|[ero, visual, nov...|  40972890|    22289649|2018-03-06 18:25:...|247607785|  1|(784,[119,396,711...|\n",
      "|3571380|              [boop]|  40972890|    27713718|2018-03-06 18:25:...|247607785|  1|    (784,[17],[1.0])|\n",
      "|3571396|   [choices, monkaS]|  40972890|    27713718|2018-03-06 18:25:...|247607785|  1|(784,[8,602],[1.0...|\n",
      "|3571395|           [rooWhat]|  40972890|    19264788|2018-03-06 18:25:...|247607785|  1|    (784,[42],[1.0])|\n",
      "|3571394|           [rooWhat]|  40972890|    42633473|2018-03-06 18:25:...|247607785|  1|    (784,[42],[1.0])|\n",
      "|3571393|[@Freon22, he, be...|  40972890|    43988906|2018-03-06 18:25:...|247607785|  1|(784,[186,248,288...|\n",
      "+-------+--------------------+----------+------------+--------------------+---------+---+--------------------+\n",
      "only showing top 20 rows\n",
      "\n"
     ]
    }
   ],
   "source": [
    "# Now that that's done we can fit a CountVectorizerModel to 'body', adding a 'features' feature/column.\n",
    "\n",
    "cv = CountVectorizer(inputCol=\"body\", outputCol=\"features\", vocabSize=10000, minDF=1.0) #,stop_words='english')?\n",
    "\n",
    "model = cv.fit(LSH_df)\n",
    "\n",
    "LSH_df = model.transform(LSH_df)\n",
    "LSH_df.show()"
   ]
  },
  {
   "cell_type": "code",
   "execution_count": 15,
   "id": "8e3db945-7b5e-4e53-b086-f2a7433ce54f",
   "metadata": {},
   "outputs": [],
   "source": [
    "from pyspark.ml.feature import MinHashLSH\n",
    "from pyspark.ml.linalg import Vectors\n",
    "from pyspark.sql.functions import col"
   ]
  },
  {
   "cell_type": "code",
   "execution_count": 16,
   "id": "5e97fb21-3db4-4352-be54-373ddd94a976",
   "metadata": {},
   "outputs": [],
   "source": [
    "# Now we can apply LSH to 'features'.\n",
    "\n",
    "mh = MinHashLSH(inputCol=\"features\", outputCol=\"hashes\", numHashTables=1000)\n",
    "model = mh.fit(LSH_df)"
   ]
  },
  {
   "cell_type": "code",
   "execution_count": 17,
   "id": "734897fb-9636-4b74-b0d7-246475a99437",
   "metadata": {},
   "outputs": [
    {
     "name": "stdout",
     "output_type": "stream",
     "text": [
      "+---+-----+\n",
      "|bin|count|\n",
      "+---+-----+\n",
      "|  1|  512|\n",
      "+---+-----+\n",
      "\n"
     ]
    },
    {
     "name": "stderr",
     "output_type": "stream",
     "text": [
      "[Stage 163:======================================>                  (2 + 1) / 3]\r"
     ]
    },
    {
     "name": "stdout",
     "output_type": "stream",
     "text": [
      "+-------+--------------------+---+--------------------+--------------------+\n",
      "|    _c0|                body|bin|            features|              hashes|\n",
      "+-------+--------------------+---+--------------------+--------------------+\n",
      "|3571405|[ZTD, memories, r...|  1|(784,[18,428,626]...|[[1.27381141E8], ...|\n",
      "|3571400|  [rooOhISam, right]|  1|(784,[123,125],[1...|[[1.597085847E9],...|\n",
      "|3571401|       [What, rooVV]|  1|(784,[0,60],[1.0,...|[[2.2273316E7], [...|\n",
      "|3571384|        [Spaceshipp]|  1|   (784,[482],[1.0])|[[8.7422106E7], [...|\n",
      "|3571402|                 [?]|  1|    (784,[77],[1.0])|[[1.40615224E9], ...|\n",
      "|3571403|           [rooWhat]|  1|    (784,[42],[1.0])|[[7.14951242E8], ...|\n",
      "|3571404|[5, endings, POGG...|  1|(784,[139,538,708...|[[1.058336349E9],...|\n",
      "|3571411|[\"I, think, if, y...|  1|(784,[3,15,22,107...|[[5.3370783E7], [...|\n",
      "|3571406|      [Stor, rooREE]|  1|(784,[1,734],[1.0...|[[2.54642886E8], ...|\n",
      "|3571407|           [rooWhat]|  1|    (784,[42],[1.0])|[[7.14951242E8], ...|\n",
      "+-------+--------------------+---+--------------------+--------------------+\n",
      "\n"
     ]
    },
    {
     "name": "stderr",
     "output_type": "stream",
     "text": [
      "                                                                                \r"
     ]
    }
   ],
   "source": [
    "LSH_df.groupBy('bin').count().show()\n",
    "\n",
    "# This dataframe has only 512 entries, however even processing this results in failed jobs due to the\n",
    "# cluster capacity, so this is being trimmed to 10 entries for display purposes (also dropping unneeded\n",
    "# columns).\n",
    "\n",
    "test_sample = model.transform(LSH_df).drop('channel_id','commenter_id','created_at','video_id').head(10)\n",
    "test_sample = spark.createDataFrame(test_sample)\n",
    "test_sample.show()"
   ]
  },
  {
   "cell_type": "code",
   "execution_count": 19,
   "id": "427d549e-8603-4d74-977a-bf387609cfd1",
   "metadata": {
    "scrolled": true
   },
   "outputs": [
    {
     "name": "stdout",
     "output_type": "stream",
     "text": [
      "Twitch messages in the sample with a Jaccard distance smaller than 0.8:\n"
     ]
    },
    {
     "name": "stderr",
     "output_type": "stream",
     "text": [
      "[Stage 181:======================>                                  (2 + 3) / 5]\r"
     ]
    },
    {
     "name": "stdout",
     "output_type": "stream",
     "text": [
      "+--------------------+--------------------+---------------+\n",
      "|            datasetA|            datasetB|JaccardDistance|\n",
      "+--------------------+--------------------+---------------+\n",
      "|{3571406, [Stor, ...|{3571406, [Stor, ...|            0.0|\n",
      "|{3571405, [ZTD, m...|{3571405, [ZTD, m...|            0.0|\n",
      "|{3571404, [5, end...|{3571404, [5, end...|            0.0|\n",
      "|{3571400, [rooOhI...|{3571400, [rooOhI...|            0.0|\n",
      "|{3571401, [What, ...|{3571401, [What, ...|            0.0|\n",
      "|{3571407, [rooWha...|{3571407, [rooWha...|            0.0|\n",
      "|{3571403, [rooWha...|{3571407, [rooWha...|            0.0|\n",
      "|{3571403, [rooWha...|{3571403, [rooWha...|            0.0|\n",
      "|{3571384, [Spaces...|{3571384, [Spaces...|            0.0|\n",
      "|{3571407, [rooWha...|{3571403, [rooWha...|            0.0|\n",
      "|{3571402, [?], 1,...|{3571402, [?], 1,...|            0.0|\n",
      "|{3571411, [\"I, th...|{3571411, [\"I, th...|            0.0|\n",
      "+--------------------+--------------------+---------------+\n",
      "\n"
     ]
    },
    {
     "name": "stderr",
     "output_type": "stream",
     "text": [
      "                                                                                \r"
     ]
    }
   ],
   "source": [
    "print(\"Twitch messages in the sample with a Jaccard distance smaller than 0.8:\")\n",
    "model.approxSimilarityJoin(test_sample, test_sample, 0.8, distCol=\"JaccardDistance\").show()\n",
    "\n",
    "# Note there are naturally instances of the same message matching itself. What is beneficial here\n",
    "# is identifying different messages (e.g. the 3rd from last row, where _c0 is different between the\n",
    "# two messages)."
   ]
  },
  {
   "cell_type": "markdown",
   "id": "1aa5ce38",
   "metadata": {},
   "source": [
    "#### Bonus: Word2Vec"
   ]
  },
  {
   "cell_type": "code",
   "execution_count": 20,
   "id": "5a923133-7076-4e9d-ad62-0987fa3657c3",
   "metadata": {},
   "outputs": [
    {
     "name": "stderr",
     "output_type": "stream",
     "text": [
      "21/11/30 01:55:13 WARN com.github.fommil.netlib.BLAS: Failed to load implementation from: com.github.fommil.netlib.NativeSystemBLAS\n",
      "21/11/30 01:55:13 WARN com.github.fommil.netlib.BLAS: Failed to load implementation from: com.github.fommil.netlib.NativeRefBLAS\n"
     ]
    }
   ],
   "source": [
    "from pyspark.ml.feature import Word2Vec\n",
    "from pyspark.sql.functions import format_number as fmt\n",
    "\n",
    "\n",
    "word2Vec = Word2Vec(vectorSize=3, minCount=0, inputCol=\"body\", outputCol=\"result\")\n",
    "model = word2Vec.fit(test_sample)\n",
    "\n",
    "dist = []\n",
    "dct = {}\n",
    "\n",
    "result = model.transform(test_sample)\n",
    "for row in result.collect():\n",
    "    dist.append(row[\"result\"].values)\n",
    "    dct[str(row[\"body\"])] = row[\"result\"].values"
   ]
  },
  {
   "cell_type": "code",
   "execution_count": 21,
   "id": "1387fd0d",
   "metadata": {},
   "outputs": [
    {
     "name": "stdout",
     "output_type": "stream",
     "text": [
      "Cosine distance: 0.03815494776400252 between ['rooOhISam', 'right'] and ['Stor', 'rooREE']\n"
     ]
    }
   ],
   "source": [
    "# Maybe not the best model to use...\n",
    "# This implementation does not catch pure duplicates.\n",
    "\n",
    "from scipy.spatial import distance\n",
    "from itertools import combinations\n",
    "\n",
    "for i,y in combinations(dct,2):\n",
    "    dist = distance.cosine(dct[i],dct[y])\n",
    "    if dist < .1:\n",
    "        print(f'Cosine distance: {dist} between {i} and {y}')\n"
   ]
  },
  {
   "cell_type": "code",
   "execution_count": null,
   "id": "a1e922f9",
   "metadata": {},
   "outputs": [],
   "source": [
    "# Doesn't seem very promising in this context (where messages often don't contain 'real' words)"
   ]
  },
  {
   "cell_type": "code",
   "execution_count": 23,
   "id": "74ce70b4",
   "metadata": {},
   "outputs": [
    {
     "name": "stdout",
     "output_type": "stream",
     "text": [
      "Splitting text messages into array\n",
      "+----------------+\n",
      "|           value|\n",
      "+----------------+\n",
      "|       [i, like]|\n",
      "|[i, like, class]|\n",
      "+----------------+\n",
      "\n",
      "Vectorizing\n",
      "+----------------+--------------------+\n",
      "|           value|            features|\n",
      "+----------------+--------------------+\n",
      "|       [i, like]| (3,[0,1],[1.0,1.0])|\n",
      "|[i, like, class]|(3,[0,1,2],[1.0,1...|\n",
      "+----------------+--------------------+\n",
      "\n",
      "LSH Hash Values\n",
      "+----------------+--------------------+--------------------+\n",
      "|           value|            features|              hashes|\n",
      "+----------------+--------------------+--------------------+\n",
      "|       [i, like]| (3,[0,1],[1.0,1.0])|[[2.54642886E8], ...|\n",
      "|[i, like, class]|(3,[0,1,2],[1.0,1...|[[2.16160779E8], ...|\n",
      "+----------------+--------------------+--------------------+\n",
      "\n",
      "Twitch messages in the sample with a Jaccard distance smaller than 0.5:\n"
     ]
    },
    {
     "name": "stderr",
     "output_type": "stream",
     "text": [
      "[Stage 230:>                                                        (0 + 2) / 2]\r"
     ]
    },
    {
     "name": "stdout",
     "output_type": "stream",
     "text": [
      "+--------------------+--------------------+-------------------+\n",
      "|            datasetA|            datasetB|    JaccardDistance|\n",
      "+--------------------+--------------------+-------------------+\n",
      "|{[i, like], (3,[0...|{[i, like], [[2.5...|                0.0|\n",
      "|{[i, like, class]...|{[i, like], [[2.5...|0.33333333333333337|\n",
      "|{[i, like, class]...|{[i, like, class]...|                0.0|\n",
      "|{[i, like], (3,[0...|{[i, like, class]...|0.33333333333333337|\n",
      "+--------------------+--------------------+-------------------+\n",
      "\n"
     ]
    },
    {
     "name": "stderr",
     "output_type": "stream",
     "text": [
      "                                                                                \r"
     ]
    }
   ],
   "source": [
    "####If we want to show some chat messages live and Spark giving us LSH, we can run this...\n",
    "\n",
    "df1 = spark.createDataFrame([\"i like\",\"i like class\"], \"string\").toDF(\"value\")\n",
    "df1 = df1.withColumn(\"value\", split(col(\"value\"),\" \"))\n",
    "print(\"Splitting text messages into array\")\n",
    "df1.show()\n",
    "\n",
    "\n",
    "cv = CountVectorizer(inputCol=\"value\", outputCol=\"features\", vocabSize=1000000, minTF=1, binary=True)\n",
    "model1 = cv.fit(df1)\n",
    "df1 = model1.transform(df1)\n",
    "print(\"Vectorizing\")\n",
    "df1.show()\n",
    "\n",
    "\n",
    "mh = MinHashLSH(inputCol=\"features\", outputCol=\"hashes\", numHashTables=1000)\n",
    "model1 = mh.fit(df1)\n",
    "df1 = model1.transform(df1)\n",
    "print(\"LSH Hash Values\")\n",
    "df1.show()\n",
    "\n",
    "\n",
    "print(\"Twitch messages in the sample with a Jaccard distance smaller than 0.5:\")\n",
    "model1.approxSimilarityJoin(df1, df1, .5, distCol=\"JaccardDistance\").show()\n",
    "\n",
    "####IGNORE"
   ]
  }
 ],
 "metadata": {
  "kernelspec": {
   "display_name": "Python 3",
   "language": "python",
   "name": "python3"
  },
  "language_info": {
   "codemirror_mode": {
    "name": "ipython",
    "version": 3
   },
   "file_extension": ".py",
   "mimetype": "text/x-python",
   "name": "python",
   "nbconvert_exporter": "python",
   "pygments_lexer": "ipython3",
   "version": "3.8.12"
  }
 },
 "nbformat": 4,
 "nbformat_minor": 5
}
